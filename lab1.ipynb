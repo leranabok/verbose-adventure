{
 "cells":[
  {
   "cell_type":"markdown",
   "source":[
    "# task3"
   ],
   "attachments":{
    
   },
   "metadata":{
    "datalore":{
     "type":"MD",
     "hide_input_from_viewers":false,
     "hide_output_from_viewers":false,
     "sheet_delimiter":true
    }
   }
  },
  {
   "cell_type":"markdown",
   "source":[
    "#1. Markdown cells\n",
    "\n",
    "- Hi! Is it main Academy?  \n",
    "- All HTML Subs are supported!  \n",
    "- Моя сторінка на лінкедін [Лінкедін](https:\/\/www.linkedin.com)\n",
    "\n",
    "# This is Heading 1 \n",
    "## This is Heading 2\n",
    "\n",
    "some gray colored text:\n",
    "\n",
    "> This is where we can bring qotes and present them nicely\n",
    "\n",
    "And this is the paragraph about something very important . Even math:\n",
    "\n",
    "$y_{sub}$ = $\\sqrt{x_{sub}}$\n",
    "\n",
    "\n",
    "\n",
    "Or python code example:\n",
    "```\n",
    " import math  \n",
    "    def foo():  \n",
    "        return \"foo\"\n",
    "```\n",
    "   "
   ],
   "attachments":{
    
   },
   "metadata":{
    "datalore":{
     "type":"MD",
     "hide_input_from_viewers":false,
     "hide_output_from_viewers":false
    }
   }
  },
  {
   "cell_type":"markdown",
   "source":[
    "# task 4"
   ],
   "attachments":{
    
   },
   "metadata":{
    "datalore":{
     "type":"MD",
     "hide_input_from_viewers":false,
     "hide_output_from_viewers":false,
     "sheet_delimiter":true
    }
   }
  },
  {
   "cell_type":"markdown",
   "source":[
    "Here is the sample mean: \n",
    "\n",
    "$$\\bar{y} = \\frac{1}{n}{\\sum_{i=1}^{n} y_{i}}$$\n",
    "\n",
    "Here is the sample variance: \n",
    "\n",
    "$$\\sigma^2 = \\frac{\\sum_{i=1}^{n} (y_{i}-\\bar{y})^2}{n-1}$$\n",
    "\n",
    "Here is the sample standard deviation: \n",
    "\n",
    "$\\sigma = \\sqrt{\\frac{\\sum_{i=1}^{n} (y_{i}-\\bar{y})^2}{n-1}}$\n"
   ],
   "attachments":{
    
   },
   "metadata":{
    "datalore":{
     "type":"MD",
     "hide_input_from_viewers":false,
     "hide_output_from_viewers":false
    }
   }
  }
 ],
 "metadata":{
  "datalore":{
   "version":1,
   "computation_mode":"JUPYTER",
   "package_manager":"pip",
   "base_environment":"default",
   "packages":[
    
   ]
  }
 },
 "nbformat":4,
 "nbformat_minor":4
}