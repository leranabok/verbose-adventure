{
 "cells":[
  {
   "cell_type":"markdown",
   "source":[
    "___\n",
    "\n",
    "<a href='https:\/\/mainacademy.ua\/'> <img src='https:\/\/mainacademy.ua\/wp-content\/uploads\/2019\/03\/logo-main.png' alt = 'Хмм, щось з інтернетом'\/><\/a>\n",
    "___\n",
    "\n",
    "# Module 5: Data analysis with NumPy and Pandas"
   ],
   "attachments":{
    
   },
   "metadata":{
    "datalore":{
     "type":"MD",
     "hide_input_from_viewers":false,
     "hide_output_from_viewers":false
    }
   }
  },
  {
   "cell_type":"markdown",
   "source":[
    "## Lab work 5.2\n"
   ],
   "attachments":{
    
   },
   "metadata":{
    "datalore":{
     "type":"MD",
     "hide_input_from_viewers":false,
     "hide_output_from_viewers":false
    }
   }
  },
  {
   "cell_type":"markdown",
   "source":[
    "#### Мета: \n",
    "\n",
    "* навчитися працювати із бібліотекою Pandas в Python."
   ],
   "attachments":{
    
   },
   "metadata":{
    "datalore":{
     "type":"MD",
     "hide_input_from_viewers":false,
     "hide_output_from_viewers":false
    }
   }
  },
  {
   "cell_type":"markdown",
   "source":[
    "### Завдання:"
   ],
   "attachments":{
    
   },
   "metadata":{
    "datalore":{
     "type":"MD",
     "hide_input_from_viewers":false,
     "hide_output_from_viewers":false
    }
   }
  },
  {
   "cell_type":"code",
   "source":[
    "import pandas as pd"
   ],
   "execution_count":131,
   "outputs":[
    
   ],
   "metadata":{
    "datalore":{
     "type":"CODE",
     "hide_input_from_viewers":false,
     "hide_output_from_viewers":false
    }
   }
  },
  {
   "cell_type":"markdown",
   "source":[
    "Вивести версію та конфігурацію бібліотеки:"
   ],
   "attachments":{
    
   },
   "metadata":{
    "datalore":{
     "type":"MD",
     "hide_input_from_viewers":false,
     "hide_output_from_viewers":false
    }
   }
  },
  {
   "cell_type":"code",
   "source":[
    "pd.__version__"
   ],
   "execution_count":2,
   "outputs":[
    {
     "data":{
      "text\/plain":[
       "'1.3.5'"
      ]
     },
     "metadata":{
      
     },
     "output_type":"display_data"
    }
   ],
   "metadata":{
    "datalore":{
     "type":"CODE",
     "hide_input_from_viewers":false,
     "hide_output_from_viewers":false
    }
   }
  },
  {
   "cell_type":"code",
   "source":[
    "df = pd.read_csv('Ecommerce Purchases.csv')\n",
    "df.head()"
   ],
   "execution_count":132,
   "outputs":[
    {
     "data":{
      "text\/html":[
       "<div>\n",
       "<style scoped>\n",
       "    .dataframe tbody tr th:only-of-type {\n",
       "        vertical-align: middle;\n",
       "    }\n",
       "\n",
       "    .dataframe tbody tr th {\n",
       "        vertical-align: top;\n",
       "    }\n",
       "\n",
       "    .dataframe thead th {\n",
       "        text-align: right;\n",
       "    }\n",
       "<\/style>\n",
       "<table border=\"1\" class=\"dataframe\">\n",
       "  <thead>\n",
       "    <tr style=\"text-align: right;\">\n",
       "      <th><\/th>\n",
       "      <th>Address<\/th>\n",
       "      <th>Lot<\/th>\n",
       "      <th>AM or PM<\/th>\n",
       "      <th>Browser Info<\/th>\n",
       "      <th>Company<\/th>\n",
       "      <th>Credit Card<\/th>\n",
       "      <th>CC Exp Date<\/th>\n",
       "      <th>CC Security Code<\/th>\n",
       "      <th>CC Provider<\/th>\n",
       "      <th>Email<\/th>\n",
       "      <th>Job<\/th>\n",
       "      <th>IP Address<\/th>\n",
       "      <th>Language<\/th>\n",
       "      <th>Purchase Price<\/th>\n",
       "    <\/tr>\n",
       "  <\/thead>\n",
       "  <tbody>\n",
       "    <tr>\n",
       "      <th>0<\/th>\n",
       "      <td>16629 Pace Camp Apt. 448\\nAlexisborough, NE 77...<\/td>\n",
       "      <td>46 in<\/td>\n",
       "      <td>PM<\/td>\n",
       "      <td>Opera\/9.56.(X11; Linux x86_64; sl-SI) Presto\/2...<\/td>\n",
       "      <td>Martinez-Herman<\/td>\n",
       "      <td>6011929061123406<\/td>\n",
       "      <td>02\/20<\/td>\n",
       "      <td>900<\/td>\n",
       "      <td>JCB 16 digit<\/td>\n",
       "      <td>pdunlap@yahoo.com<\/td>\n",
       "      <td>Scientist, product\/process development<\/td>\n",
       "      <td>149.146.147.205<\/td>\n",
       "      <td>el<\/td>\n",
       "      <td>98.14<\/td>\n",
       "    <\/tr>\n",
       "    <tr>\n",
       "      <th>1<\/th>\n",
       "      <td>9374 Jasmine Spurs Suite 508\\nSouth John, TN 8...<\/td>\n",
       "      <td>28 rn<\/td>\n",
       "      <td>PM<\/td>\n",
       "      <td>Opera\/8.93.(Windows 98; Win 9x 4.90; en-US) Pr...<\/td>\n",
       "      <td>Fletcher, Richards and Whitaker<\/td>\n",
       "      <td>3337758169645356<\/td>\n",
       "      <td>11\/18<\/td>\n",
       "      <td>561<\/td>\n",
       "      <td>Mastercard<\/td>\n",
       "      <td>anthony41@reed.com<\/td>\n",
       "      <td>Drilling engineer<\/td>\n",
       "      <td>15.160.41.51<\/td>\n",
       "      <td>fr<\/td>\n",
       "      <td>70.73<\/td>\n",
       "    <\/tr>\n",
       "    <tr>\n",
       "      <th>2<\/th>\n",
       "      <td>Unit 0065 Box 5052\\nDPO AP 27450<\/td>\n",
       "      <td>94 vE<\/td>\n",
       "      <td>PM<\/td>\n",
       "      <td>Mozilla\/5.0 (compatible; MSIE 9.0; Windows NT ...<\/td>\n",
       "      <td>Simpson, Williams and Pham<\/td>\n",
       "      <td>675957666125<\/td>\n",
       "      <td>08\/19<\/td>\n",
       "      <td>699<\/td>\n",
       "      <td>JCB 16 digit<\/td>\n",
       "      <td>amymiller@morales-harrison.com<\/td>\n",
       "      <td>Customer service manager<\/td>\n",
       "      <td>132.207.160.22<\/td>\n",
       "      <td>de<\/td>\n",
       "      <td>0.95<\/td>\n",
       "    <\/tr>\n",
       "    <tr>\n",
       "      <th>3<\/th>\n",
       "      <td>7780 Julia Fords\\nNew Stacy, WA 45798<\/td>\n",
       "      <td>36 vm<\/td>\n",
       "      <td>PM<\/td>\n",
       "      <td>Mozilla\/5.0 (Macintosh; Intel Mac OS X 10_8_0 ...<\/td>\n",
       "      <td>Williams, Marshall and Buchanan<\/td>\n",
       "      <td>6011578504430710<\/td>\n",
       "      <td>02\/24<\/td>\n",
       "      <td>384<\/td>\n",
       "      <td>Discover<\/td>\n",
       "      <td>brent16@olson-robinson.info<\/td>\n",
       "      <td>Drilling engineer<\/td>\n",
       "      <td>30.250.74.19<\/td>\n",
       "      <td>es<\/td>\n",
       "      <td>78.04<\/td>\n",
       "    <\/tr>\n",
       "    <tr>\n",
       "      <th>4<\/th>\n",
       "      <td>23012 Munoz Drive Suite 337\\nNew Cynthia, TX 5...<\/td>\n",
       "      <td>20 IE<\/td>\n",
       "      <td>AM<\/td>\n",
       "      <td>Opera\/9.58.(X11; Linux x86_64; it-IT) Presto\/2...<\/td>\n",
       "      <td>Brown, Watson and Andrews<\/td>\n",
       "      <td>6011456623207998<\/td>\n",
       "      <td>10\/25<\/td>\n",
       "      <td>678<\/td>\n",
       "      <td>Diners Club \/ Carte Blanche<\/td>\n",
       "      <td>christopherwright@gmail.com<\/td>\n",
       "      <td>Fine artist<\/td>\n",
       "      <td>24.140.33.94<\/td>\n",
       "      <td>es<\/td>\n",
       "      <td>77.82<\/td>\n",
       "    <\/tr>\n",
       "  <\/tbody>\n",
       "<\/table>\n",
       "<\/div>"
      ]
     },
     "metadata":{
      
     },
     "output_type":"display_data"
    }
   ],
   "metadata":{
    "datalore":{
     "type":"CODE",
     "hide_input_from_viewers":false,
     "hide_output_from_viewers":false
    }
   }
  },
  {
   "cell_type":"code",
   "source":[
    "import  numpy as np\n",
    "#df = pd.DataFrame({'animal': ['cat', 'cat', 'snake', 'dog', 'dog', 'cat', 'snake', 'cat', 'dog', 'dog'],\n",
    "#                   'age': [2.5, 3, 0.5, np.nan, 5, 2, 4.5, np.nan, 7, 3],\n",
    "#                   'name': ['Murzik', 'Pushok', 'Kaa', 'Bobik', 'Strelka', 'Vaska', 'Kaa2', 'Murka', 'Graf', 'Muhtar'],\n",
    "#                   'visits': [1, 3, 2, 3, 2, 3, 1, 1, 2, 1],\n",
    "#                   'priority': ['yes', 'yes', 'no', 'yes', 'no', 'no', 'no', 'yes', 'no', 'no']},\n",
    "#                 index = ['a', 'b', 'c', 'd', 'e', 'f', 'g', 'h', 'i', 'j'])\n",
    "#column = 'animal'\n",
    "#old_value = 'snake'\n",
    "#new_value = 'python'\n",
    "\n",
    "# df[column]=df[column].map(lambda x: new_value if x == old_value else x)\n",
    "#df[column]=df[column].replace(old_value, new_value)\n",
    "#df\n",
    "# print('lera - ruzha mavpa')"
   ],
   "execution_count":133,
   "outputs":[
    
   ],
   "metadata":{
    "datalore":{
     "type":"CODE",
     "hide_input_from_viewers":false,
     "hide_output_from_viewers":false
    }
   }
  },
  {
   "cell_type":"markdown",
   "source":[
    "Скільки рядків і стовпців в наборі даних:"
   ],
   "attachments":{
    
   },
   "metadata":{
    "datalore":{
     "type":"MD",
     "hide_input_from_viewers":false,
     "hide_output_from_viewers":false
    }
   }
  },
  {
   "cell_type":"code",
   "source":[
    "df.shape"
   ],
   "execution_count":134,
   "outputs":[
    {
     "data":{
      "text\/plain":[
       "(10000, 14)"
      ]
     },
     "metadata":{
      
     },
     "output_type":"display_data"
    }
   ],
   "metadata":{
    "datalore":{
     "type":"CODE",
     "hide_input_from_viewers":false,
     "hide_output_from_viewers":false
    }
   }
  },
  {
   "cell_type":"markdown",
   "source":[
    "Перевірити, чи в наборі даних містяться порожні значення:"
   ],
   "attachments":{
    
   },
   "metadata":{
    "datalore":{
     "type":"MD",
     "hide_input_from_viewers":false,
     "hide_output_from_viewers":false
    }
   }
  },
  {
   "cell_type":"code",
   "source":[
    "df.isna().sum().sum()"
   ],
   "execution_count":135,
   "outputs":[
    {
     "data":{
      "text\/plain":[
       "0"
      ]
     },
     "metadata":{
      
     },
     "output_type":"display_data"
    }
   ],
   "metadata":{
    "datalore":{
     "type":"CODE",
     "hide_input_from_viewers":false,
     "hide_output_from_viewers":false
    }
   }
  },
  {
   "cell_type":"markdown",
   "source":[
    "Яка середня ціна закупки (Purchase Price):"
   ],
   "attachments":{
    
   },
   "metadata":{
    "datalore":{
     "type":"MD",
     "hide_input_from_viewers":false,
     "hide_output_from_viewers":false
    }
   }
  },
  {
   "cell_type":"code",
   "source":[
    "df['Purchase Price'].mean()"
   ],
   "execution_count":136,
   "outputs":[
    {
     "data":{
      "text\/plain":[
       "50.347302"
      ]
     },
     "metadata":{
      
     },
     "output_type":"display_data"
    }
   ],
   "metadata":{
    "datalore":{
     "type":"CODE",
     "hide_input_from_viewers":false,
     "hide_output_from_viewers":false
    }
   }
  },
  {
   "cell_type":"markdown",
   "source":[
    "Скільки людей користуються англійською мовою \"en\" на веб-сайті:"
   ],
   "attachments":{
    
   },
   "metadata":{
    "datalore":{
     "type":"MD",
     "hide_input_from_viewers":false,
     "hide_output_from_viewers":false
    }
   }
  },
  {
   "cell_type":"code",
   "source":[
    "df.groupby(['Language'])['Email'].count()['en']"
   ],
   "execution_count":144,
   "outputs":[
    {
     "data":{
      "text\/plain":[
       "1098"
      ]
     },
     "metadata":{
      
     },
     "output_type":"display_data"
    }
   ],
   "metadata":{
    "datalore":{
     "type":"CODE",
     "hide_input_from_viewers":false,
     "hide_output_from_viewers":false
    }
   }
  },
  {
   "cell_type":"markdown",
   "source":[
    "Скільки людей має посаду «Lawyer»?"
   ],
   "attachments":{
    
   },
   "metadata":{
    "datalore":{
     "type":"MD",
     "hide_input_from_viewers":false,
     "hide_output_from_viewers":false
    }
   }
  },
  {
   "cell_type":"code",
   "source":[
    "df['Job'].value_counts()['Lawyer']"
   ],
   "execution_count":149,
   "outputs":[
    {
     "data":{
      "text\/plain":[
       "30"
      ]
     },
     "metadata":{
      
     },
     "output_type":"display_data"
    }
   ],
   "metadata":{
    "datalore":{
     "type":"CODE",
     "hide_input_from_viewers":false,
     "hide_output_from_viewers":false
    }
   }
  },
  {
   "cell_type":"markdown",
   "source":[
    "Скільки людей зробило покупку вранці та скільки людей зробило покупку після обіду?"
   ],
   "attachments":{
    
   },
   "metadata":{
    "datalore":{
     "type":"MD",
     "hide_input_from_viewers":false,
     "hide_output_from_viewers":false
    }
   }
  },
  {
   "cell_type":"code",
   "source":[
    "df.groupby(['AM or PM']).count()['Address']"
   ],
   "execution_count":153,
   "outputs":[
    {
     "data":{
      "text\/html":[
       
      ]
     },
     "metadata":{
      
     },
     "output_type":"display_data"
    }
   ],
   "metadata":{
    "datalore":{
     "type":"CODE",
     "hide_input_from_viewers":false,
     "hide_output_from_viewers":false
    }
   }
  },
  {
   "cell_type":"markdown",
   "source":[
    "Які 5 найпоширеніших назв вакансій?"
   ],
   "attachments":{
    
   },
   "metadata":{
    "datalore":{
     "type":"MD",
     "hide_input_from_viewers":false,
     "hide_output_from_viewers":false
    }
   }
  },
  {
   "cell_type":"code",
   "source":[
    "df.groupby(['Job']).count()['Address'].sort_values(ascending=False)[0:5]"
   ],
   "execution_count":160,
   "outputs":[
    {
     "data":{
      "text\/html":[
       
      ]
     },
     "metadata":{
      
     },
     "output_type":"display_data"
    }
   ],
   "metadata":{
    "datalore":{
     "type":"CODE",
     "hide_input_from_viewers":false,
     "hide_output_from_viewers":false
    }
   }
  },
  {
   "cell_type":"markdown",
   "source":[
    "Хтось здійснив покупку, яка надійшла від Lot: \"90 Wt\", та якою була ціна придбання для цієї транзакції?"
   ],
   "attachments":{
    
   },
   "metadata":{
    "datalore":{
     "type":"MD",
     "hide_input_from_viewers":false,
     "hide_output_from_viewers":false
    }
   }
  },
  {
   "cell_type":"code",
   "source":[
    "df[df['Lot'].str.upper()=='90 WT']['Purchase Price']"
   ],
   "execution_count":170,
   "outputs":[
    {
     "data":{
      "text\/html":[
       
      ]
     },
     "metadata":{
      
     },
     "output_type":"display_data"
    }
   ],
   "metadata":{
    "datalore":{
     "type":"CODE",
     "hide_input_from_viewers":false,
     "hide_output_from_viewers":false
    }
   }
  },
  {
   "cell_type":"markdown",
   "source":[
    "Яка електронна адреса особи з таким номером кредитної картки: 4926535242672853 ?"
   ],
   "attachments":{
    
   },
   "metadata":{
    "datalore":{
     "type":"MD",
     "hide_input_from_viewers":false,
     "hide_output_from_viewers":false
    }
   }
  },
  {
   "cell_type":"code",
   "source":[
    "df[df['Credit Card']==4926535242672853]['Email']"
   ],
   "execution_count":177,
   "outputs":[
    {
     "data":{
      "text\/html":[
       
      ]
     },
     "metadata":{
      
     },
     "output_type":"display_data"
    }
   ],
   "metadata":{
    "datalore":{
     "type":"CODE",
     "hide_input_from_viewers":false,
     "hide_output_from_viewers":false
    }
   }
  },
  {
   "cell_type":"markdown",
   "source":[
    "Скільки людей використовує American Express  і здійснили покупку на суму понад 100 доларів?"
   ],
   "attachments":{
    
   },
   "metadata":{
    "datalore":{
     "type":"MD",
     "hide_input_from_viewers":false,
     "hide_output_from_viewers":false
    }
   }
  },
  {
   "cell_type":"code",
   "source":[
    "df[(df['CC Provider']=='American Express') & (df['Purchase Price']>100)]"
   ],
   "execution_count":179,
   "outputs":[
    {
     "data":{
      "text\/html":[
       "<div>\n",
       "<style scoped>\n",
       "    .dataframe tbody tr th:only-of-type {\n",
       "        vertical-align: middle;\n",
       "    }\n",
       "\n",
       "    .dataframe tbody tr th {\n",
       "        vertical-align: top;\n",
       "    }\n",
       "\n",
       "    .dataframe thead th {\n",
       "        text-align: right;\n",
       "    }\n",
       "<\/style>\n",
       "<table border=\"1\" class=\"dataframe\">\n",
       "  <thead>\n",
       "    <tr style=\"text-align: right;\">\n",
       "      <th><\/th>\n",
       "      <th>Address<\/th>\n",
       "      <th>Lot<\/th>\n",
       "      <th>AM or PM<\/th>\n",
       "      <th>Browser Info<\/th>\n",
       "      <th>Company<\/th>\n",
       "      <th>Credit Card<\/th>\n",
       "      <th>CC Exp Date<\/th>\n",
       "      <th>CC Security Code<\/th>\n",
       "      <th>CC Provider<\/th>\n",
       "      <th>Email<\/th>\n",
       "      <th>Job<\/th>\n",
       "      <th>IP Address<\/th>\n",
       "      <th>Language<\/th>\n",
       "      <th>Purchase Price<\/th>\n",
       "    <\/tr>\n",
       "  <\/thead>\n",
       "  <tbody>\n",
       "  <\/tbody>\n",
       "<\/table>\n",
       "<\/div>"
      ]
     },
     "metadata":{
      
     },
     "output_type":"display_data"
    }
   ],
   "metadata":{
    "datalore":{
     "type":"CODE",
     "hide_input_from_viewers":false,
     "hide_output_from_viewers":false
    }
   }
  },
  {
   "cell_type":"code",
   "source":[
    "df[df['CC Provider']=='American Express']['Purchase Price'].max()"
   ],
   "execution_count":183,
   "outputs":[
    {
     "data":{
      "text\/plain":[
       "99.97"
      ]
     },
     "metadata":{
      
     },
     "output_type":"display_data"
    }
   ],
   "metadata":{
    "datalore":{
     "type":"CODE",
     "hide_input_from_viewers":false,
     "hide_output_from_viewers":false
    }
   }
  },
  {
   "cell_type":"markdown",
   "source":[
    "Скільки людей мають кредитну картку, термін дії якої закінчується в 2025 році?"
   ],
   "attachments":{
    
   },
   "metadata":{
    "datalore":{
     "type":"MD",
     "hide_input_from_viewers":false,
     "hide_output_from_viewers":false
    }
   }
  },
  {
   "cell_type":"code",
   "source":[
    "df[df['CC Exp Date'].str.find('\/25')==2].count()['Address']"
   ],
   "execution_count":196,
   "outputs":[
    {
     "data":{
      "text\/plain":[
       "1033"
      ]
     },
     "metadata":{
      
     },
     "output_type":"display_data"
    }
   ],
   "metadata":{
    "datalore":{
     "type":"CODE",
     "hide_input_from_viewers":false,
     "hide_output_from_viewers":false
    }
   }
  },
  {
   "cell_type":"markdown",
   "source":[
    "Які найкращі 5 найпопулярніших постачальників \/ хостів електронної пошти (наприклад, gmail.com, yahoo.com тощо ...)."
   ],
   "attachments":{
    
   },
   "metadata":{
    "datalore":{
     "type":"MD",
     "hide_input_from_viewers":false,
     "hide_output_from_viewers":false
    }
   }
  },
  {
   "cell_type":"code",
   "source":[
    "df['new email']=df['Email'].map(lambda x: x[x.find('@')+1:])\n",
    "df['new email'].value_counts()[0:5]"
   ],
   "execution_count":215,
   "outputs":[
    {
     "data":{
      "text\/html":[
       
      ]
     },
     "metadata":{
      
     },
     "output_type":"display_data"
    }
   ],
   "metadata":{
    "datalore":{
     "type":"CODE",
     "hide_input_from_viewers":false,
     "hide_output_from_viewers":false
    }
   }
  },
  {
   "cell_type":"markdown",
   "source":[
    "Виведіть зведену таблицю по браузерах(Browser Info), посаді(Job), та кількості транзакцій :"
   ],
   "attachments":{
    
   },
   "metadata":{
    "datalore":{
     "type":"MD",
     "hide_input_from_viewers":false,
     "hide_output_from_viewers":false
    }
   }
  },
  {
   "cell_type":"code",
   "source":[
    "df['new browser']=df['Browser Info'].map(lambda x: x[:x.find('\/')])\n",
    "df['new browser'].unique()"
   ],
   "execution_count":223,
   "outputs":[
    {
     "data":{
      "text\/html":[
       
      ]
     },
     "metadata":{
      
     },
     "output_type":"display_data"
    }
   ],
   "metadata":{
    "datalore":{
     "type":"CODE",
     "hide_input_from_viewers":false,
     "hide_output_from_viewers":false
    }
   }
  },
  {
   "cell_type":"code",
   "source":[
    "pd.pivot_table(df, values=['Purchase Price'], index=['Job'], columns=['new browser'], aggfunc='count')"
   ],
   "execution_count":230,
   "outputs":[
    {
     "data":{
      "text\/html":[
       "<div>\n",
       "<style scoped>\n",
       "    .dataframe tbody tr th:only-of-type {\n",
       "        vertical-align: middle;\n",
       "    }\n",
       "\n",
       "    .dataframe tbody tr th {\n",
       "        vertical-align: top;\n",
       "    }\n",
       "\n",
       "    .dataframe thead tr th {\n",
       "        text-align: left;\n",
       "    }\n",
       "\n",
       "    .dataframe thead tr:last-of-type th {\n",
       "        text-align: right;\n",
       "    }\n",
       "<\/style>\n",
       "<table border=\"1\" class=\"dataframe\">\n",
       "  <thead>\n",
       "    <tr>\n",
       "      <th><\/th>\n",
       "      <th colspan=\"2\" halign=\"left\">Purchase Price<\/th>\n",
       "    <\/tr>\n",
       "    <tr>\n",
       "      <th>new browser<\/th>\n",
       "      <th>Mozilla<\/th>\n",
       "      <th>Opera<\/th>\n",
       "    <\/tr>\n",
       "    <tr>\n",
       "      <th>Job<\/th>\n",
       "      <th><\/th>\n",
       "      <th><\/th>\n",
       "    <\/tr>\n",
       "  <\/thead>\n",
       "  <tbody>\n",
       "    <tr>\n",
       "      <th>Academic librarian<\/th>\n",
       "      <td>10.0<\/td>\n",
       "      <td>1.0<\/td>\n",
       "    <\/tr>\n",
       "    <tr>\n",
       "      <th>Accommodation manager<\/th>\n",
       "      <td>11.0<\/td>\n",
       "      <td>6.0<\/td>\n",
       "    <\/tr>\n",
       "    <tr>\n",
       "      <th>Accountant, chartered<\/th>\n",
       "      <td>14.0<\/td>\n",
       "      <td>6.0<\/td>\n",
       "    <\/tr>\n",
       "    <tr>\n",
       "      <th>Accountant, chartered certified<\/th>\n",
       "      <td>13.0<\/td>\n",
       "      <td>5.0<\/td>\n",
       "    <\/tr>\n",
       "    <tr>\n",
       "      <th>Accountant, chartered management<\/th>\n",
       "      <td>10.0<\/td>\n",
       "      <td>5.0<\/td>\n",
       "    <\/tr>\n",
       "    <tr>\n",
       "      <th>...<\/th>\n",
       "      <td>...<\/td>\n",
       "      <td>...<\/td>\n",
       "    <\/tr>\n",
       "    <tr>\n",
       "      <th>Water quality scientist<\/th>\n",
       "      <td>13.0<\/td>\n",
       "      <td>5.0<\/td>\n",
       "    <\/tr>\n",
       "    <tr>\n",
       "      <th>Web designer<\/th>\n",
       "      <td>13.0<\/td>\n",
       "      <td>7.0<\/td>\n",
       "    <\/tr>\n",
       "    <tr>\n",
       "      <th>Wellsite geologist<\/th>\n",
       "      <td>22.0<\/td>\n",
       "      <td>2.0<\/td>\n",
       "    <\/tr>\n",
       "    <tr>\n",
       "      <th>Writer<\/th>\n",
       "      <td>9.0<\/td>\n",
       "      <td>1.0<\/td>\n",
       "    <\/tr>\n",
       "    <tr>\n",
       "      <th>Youth worker<\/th>\n",
       "      <td>15.0<\/td>\n",
       "      <td>3.0<\/td>\n",
       "    <\/tr>\n",
       "  <\/tbody>\n",
       "<\/table>\n",
       "<p>623 rows × 2 columns<\/p>\n",
       "<\/div>"
      ]
     },
     "metadata":{
      
     },
     "output_type":"display_data"
    }
   ],
   "metadata":{
    "datalore":{
     "type":"CODE",
     "hide_input_from_viewers":false,
     "hide_output_from_viewers":false
    }
   }
  },
  {
   "cell_type":"markdown",
   "source":[
    "Створіть нову колонку \"Actual price\", яка утворюється із \"Purchase Price\" та націнки за принципом:\n",
    "- якщо \"Purchase Price\" > 50, націнка 20%\n",
    "- якщо \"Purchase Price\" > 100, націнка 10%\n",
    "- в інших випадках націнка 30%\n",
    "   "
   ],
   "attachments":{
    
   },
   "metadata":{
    "datalore":{
     "type":"MD",
     "hide_input_from_viewers":false,
     "hide_output_from_viewers":false
    }
   }
  },
  {
   "cell_type":"code",
   "source":[
    "df['Actual price']=df['Purchase Price'].map(lambda x: 1.2*x if x>50 else (1.1*x if x>100 else 1.3*x))\n",
    "df"
   ],
   "execution_count":231,
   "outputs":[
    {
     "data":{
      "text\/html":[
       "<div>\n",
       "<style scoped>\n",
       "    .dataframe tbody tr th:only-of-type {\n",
       "        vertical-align: middle;\n",
       "    }\n",
       "\n",
       "    .dataframe tbody tr th {\n",
       "        vertical-align: top;\n",
       "    }\n",
       "\n",
       "    .dataframe thead th {\n",
       "        text-align: right;\n",
       "    }\n",
       "<\/style>\n",
       "<table border=\"1\" class=\"dataframe\">\n",
       "  <thead>\n",
       "    <tr style=\"text-align: right;\">\n",
       "      <th><\/th>\n",
       "      <th>Address<\/th>\n",
       "      <th>Lot<\/th>\n",
       "      <th>AM or PM<\/th>\n",
       "      <th>Browser Info<\/th>\n",
       "      <th>Company<\/th>\n",
       "      <th>Credit Card<\/th>\n",
       "      <th>CC Exp Date<\/th>\n",
       "      <th>CC Security Code<\/th>\n",
       "      <th>CC Provider<\/th>\n",
       "      <th>Email<\/th>\n",
       "      <th>Job<\/th>\n",
       "      <th>IP Address<\/th>\n",
       "      <th>Language<\/th>\n",
       "      <th>Purchase Price<\/th>\n",
       "      <th>new email<\/th>\n",
       "      <th>new browser<\/th>\n",
       "      <th>Actual price<\/th>\n",
       "    <\/tr>\n",
       "  <\/thead>\n",
       "  <tbody>\n",
       "    <tr>\n",
       "      <th>0<\/th>\n",
       "      <td>16629 Pace Camp Apt. 448\\nAlexisborough, NE 77...<\/td>\n",
       "      <td>46 in<\/td>\n",
       "      <td>PM<\/td>\n",
       "      <td>Opera\/9.56.(X11; Linux x86_64; sl-SI) Presto\/2...<\/td>\n",
       "      <td>Martinez-Herman<\/td>\n",
       "      <td>6011929061123406<\/td>\n",
       "      <td>02\/20<\/td>\n",
       "      <td>900<\/td>\n",
       "      <td>JCB 16 digit<\/td>\n",
       "      <td>pdunlap@yahoo.com<\/td>\n",
       "      <td>Scientist, product\/process development<\/td>\n",
       "      <td>149.146.147.205<\/td>\n",
       "      <td>el<\/td>\n",
       "      <td>98.14<\/td>\n",
       "      <td>yahoo.com<\/td>\n",
       "      <td>Opera<\/td>\n",
       "      <td>117.768<\/td>\n",
       "    <\/tr>\n",
       "    <tr>\n",
       "      <th>1<\/th>\n",
       "      <td>9374 Jasmine Spurs Suite 508\\nSouth John, TN 8...<\/td>\n",
       "      <td>28 rn<\/td>\n",
       "      <td>PM<\/td>\n",
       "      <td>Opera\/8.93.(Windows 98; Win 9x 4.90; en-US) Pr...<\/td>\n",
       "      <td>Fletcher, Richards and Whitaker<\/td>\n",
       "      <td>3337758169645356<\/td>\n",
       "      <td>11\/18<\/td>\n",
       "      <td>561<\/td>\n",
       "      <td>Mastercard<\/td>\n",
       "      <td>anthony41@reed.com<\/td>\n",
       "      <td>Drilling engineer<\/td>\n",
       "      <td>15.160.41.51<\/td>\n",
       "      <td>fr<\/td>\n",
       "      <td>70.73<\/td>\n",
       "      <td>reed.com<\/td>\n",
       "      <td>Opera<\/td>\n",
       "      <td>84.876<\/td>\n",
       "    <\/tr>\n",
       "    <tr>\n",
       "      <th>2<\/th>\n",
       "      <td>Unit 0065 Box 5052\\nDPO AP 27450<\/td>\n",
       "      <td>94 vE<\/td>\n",
       "      <td>PM<\/td>\n",
       "      <td>Mozilla\/5.0 (compatible; MSIE 9.0; Windows NT ...<\/td>\n",
       "      <td>Simpson, Williams and Pham<\/td>\n",
       "      <td>675957666125<\/td>\n",
       "      <td>08\/19<\/td>\n",
       "      <td>699<\/td>\n",
       "      <td>JCB 16 digit<\/td>\n",
       "      <td>amymiller@morales-harrison.com<\/td>\n",
       "      <td>Customer service manager<\/td>\n",
       "      <td>132.207.160.22<\/td>\n",
       "      <td>de<\/td>\n",
       "      <td>0.95<\/td>\n",
       "      <td>morales-harrison.com<\/td>\n",
       "      <td>Mozilla<\/td>\n",
       "      <td>1.235<\/td>\n",
       "    <\/tr>\n",
       "    <tr>\n",
       "      <th>3<\/th>\n",
       "      <td>7780 Julia Fords\\nNew Stacy, WA 45798<\/td>\n",
       "      <td>36 vm<\/td>\n",
       "      <td>PM<\/td>\n",
       "      <td>Mozilla\/5.0 (Macintosh; Intel Mac OS X 10_8_0 ...<\/td>\n",
       "      <td>Williams, Marshall and Buchanan<\/td>\n",
       "      <td>6011578504430710<\/td>\n",
       "      <td>02\/24<\/td>\n",
       "      <td>384<\/td>\n",
       "      <td>Discover<\/td>\n",
       "      <td>brent16@olson-robinson.info<\/td>\n",
       "      <td>Drilling engineer<\/td>\n",
       "      <td>30.250.74.19<\/td>\n",
       "      <td>es<\/td>\n",
       "      <td>78.04<\/td>\n",
       "      <td>olson-robinson.info<\/td>\n",
       "      <td>Mozilla<\/td>\n",
       "      <td>93.648<\/td>\n",
       "    <\/tr>\n",
       "    <tr>\n",
       "      <th>4<\/th>\n",
       "      <td>23012 Munoz Drive Suite 337\\nNew Cynthia, TX 5...<\/td>\n",
       "      <td>20 IE<\/td>\n",
       "      <td>AM<\/td>\n",
       "      <td>Opera\/9.58.(X11; Linux x86_64; it-IT) Presto\/2...<\/td>\n",
       "      <td>Brown, Watson and Andrews<\/td>\n",
       "      <td>6011456623207998<\/td>\n",
       "      <td>10\/25<\/td>\n",
       "      <td>678<\/td>\n",
       "      <td>Diners Club \/ Carte Blanche<\/td>\n",
       "      <td>christopherwright@gmail.com<\/td>\n",
       "      <td>Fine artist<\/td>\n",
       "      <td>24.140.33.94<\/td>\n",
       "      <td>es<\/td>\n",
       "      <td>77.82<\/td>\n",
       "      <td>gmail.com<\/td>\n",
       "      <td>Opera<\/td>\n",
       "      <td>93.384<\/td>\n",
       "    <\/tr>\n",
       "    <tr>\n",
       "      <th>...<\/th>\n",
       "      <td>...<\/td>\n",
       "      <td>...<\/td>\n",
       "      <td>...<\/td>\n",
       "      <td>...<\/td>\n",
       "      <td>...<\/td>\n",
       "      <td>...<\/td>\n",
       "      <td>...<\/td>\n",
       "      <td>...<\/td>\n",
       "      <td>...<\/td>\n",
       "      <td>...<\/td>\n",
       "      <td>...<\/td>\n",
       "      <td>...<\/td>\n",
       "      <td>...<\/td>\n",
       "      <td>...<\/td>\n",
       "      <td>...<\/td>\n",
       "      <td>...<\/td>\n",
       "      <td>...<\/td>\n",
       "    <\/tr>\n",
       "    <tr>\n",
       "      <th>9995<\/th>\n",
       "      <td>966 Castaneda Locks\\nWest Juliafurt, CO 96415<\/td>\n",
       "      <td>92 XI<\/td>\n",
       "      <td>PM<\/td>\n",
       "      <td>Mozilla\/5.0 (Windows NT 5.1) AppleWebKit\/5352 ...<\/td>\n",
       "      <td>Randall-Sloan<\/td>\n",
       "      <td>342945015358701<\/td>\n",
       "      <td>03\/22<\/td>\n",
       "      <td>838<\/td>\n",
       "      <td>JCB 15 digit<\/td>\n",
       "      <td>iscott@wade-garner.com<\/td>\n",
       "      <td>Printmaker<\/td>\n",
       "      <td>29.73.197.114<\/td>\n",
       "      <td>it<\/td>\n",
       "      <td>82.21<\/td>\n",
       "      <td>wade-garner.com<\/td>\n",
       "      <td>Mozilla<\/td>\n",
       "      <td>98.652<\/td>\n",
       "    <\/tr>\n",
       "    <tr>\n",
       "      <th>9996<\/th>\n",
       "      <td>832 Curtis Dam Suite 785\\nNorth Edwardburgh, T...<\/td>\n",
       "      <td>41 JY<\/td>\n",
       "      <td>AM<\/td>\n",
       "      <td>Mozilla\/5.0 (compatible; MSIE 9.0; Windows NT ...<\/td>\n",
       "      <td>Hale, Collins and Wilson<\/td>\n",
       "      <td>210033169205009<\/td>\n",
       "      <td>07\/25<\/td>\n",
       "      <td>207<\/td>\n",
       "      <td>JCB 16 digit<\/td>\n",
       "      <td>mary85@hotmail.com<\/td>\n",
       "      <td>Energy engineer<\/td>\n",
       "      <td>121.133.168.51<\/td>\n",
       "      <td>pt<\/td>\n",
       "      <td>25.63<\/td>\n",
       "      <td>hotmail.com<\/td>\n",
       "      <td>Mozilla<\/td>\n",
       "      <td>33.319<\/td>\n",
       "    <\/tr>\n",
       "    <tr>\n",
       "      <th>9997<\/th>\n",
       "      <td>Unit 4434 Box 6343\\nDPO AE 28026-0283<\/td>\n",
       "      <td>74 Zh<\/td>\n",
       "      <td>AM<\/td>\n",
       "      <td>Mozilla\/5.0 (Macintosh; U; Intel Mac OS X 10_7...<\/td>\n",
       "      <td>Anderson Ltd<\/td>\n",
       "      <td>6011539787356311<\/td>\n",
       "      <td>05\/21<\/td>\n",
       "      <td>1<\/td>\n",
       "      <td>VISA 16 digit<\/td>\n",
       "      <td>tyler16@gmail.com<\/td>\n",
       "      <td>Veterinary surgeon<\/td>\n",
       "      <td>156.210.0.254<\/td>\n",
       "      <td>el<\/td>\n",
       "      <td>83.98<\/td>\n",
       "      <td>gmail.com<\/td>\n",
       "      <td>Mozilla<\/td>\n",
       "      <td>100.776<\/td>\n",
       "    <\/tr>\n",
       "    <tr>\n",
       "      <th>9998<\/th>\n",
       "      <td>0096 English Rest\\nRoystad, IA 12457<\/td>\n",
       "      <td>74 cL<\/td>\n",
       "      <td>PM<\/td>\n",
       "      <td>Mozilla\/5.0 (Macintosh; Intel Mac OS X 10_8_8;...<\/td>\n",
       "      <td>Cook Inc<\/td>\n",
       "      <td>180003348082930<\/td>\n",
       "      <td>11\/17<\/td>\n",
       "      <td>987<\/td>\n",
       "      <td>American Express<\/td>\n",
       "      <td>elizabethmoore@reid.net<\/td>\n",
       "      <td>Local government officer<\/td>\n",
       "      <td>55.78.26.143<\/td>\n",
       "      <td>es<\/td>\n",
       "      <td>38.84<\/td>\n",
       "      <td>reid.net<\/td>\n",
       "      <td>Mozilla<\/td>\n",
       "      <td>50.492<\/td>\n",
       "    <\/tr>\n",
       "    <tr>\n",
       "      <th>9999<\/th>\n",
       "      <td>40674 Barrett Stravenue\\nGrimesville, WI 79682<\/td>\n",
       "      <td>64 Hr<\/td>\n",
       "      <td>AM<\/td>\n",
       "      <td>Mozilla\/5.0 (X11; Linux i686; rv:1.9.5.20) Gec...<\/td>\n",
       "      <td>Greene Inc<\/td>\n",
       "      <td>4139972901927273<\/td>\n",
       "      <td>02\/19<\/td>\n",
       "      <td>302<\/td>\n",
       "      <td>JCB 15 digit<\/td>\n",
       "      <td>rachelford@vaughn.com<\/td>\n",
       "      <td>Embryologist, clinical<\/td>\n",
       "      <td>176.119.198.199<\/td>\n",
       "      <td>el<\/td>\n",
       "      <td>67.59<\/td>\n",
       "      <td>vaughn.com<\/td>\n",
       "      <td>Mozilla<\/td>\n",
       "      <td>81.108<\/td>\n",
       "    <\/tr>\n",
       "  <\/tbody>\n",
       "<\/table>\n",
       "<p>10000 rows × 17 columns<\/p>\n",
       "<\/div>"
      ]
     },
     "metadata":{
      
     },
     "output_type":"display_data"
    }
   ],
   "metadata":{
    "datalore":{
     "type":"CODE",
     "hide_input_from_viewers":false,
     "hide_output_from_viewers":false
    }
   }
  },
  {
   "cell_type":"markdown",
   "source":[
    "Зробіть рангування набору даних по \"Language\" та \"Actual price\" в порядку спадання ціни.\n",
    "\n",
    "https:\/\/pandas.pydata.org\/pandas-docs\/stable\/reference\/api\/pandas.DataFrame.rank.html"
   ],
   "attachments":{
    
   },
   "metadata":{
    "datalore":{
     "type":"MD",
     "hide_input_from_viewers":false,
     "hide_output_from_viewers":false
    }
   }
  },
  {
   "cell_type":"code",
   "source":[
    "df['language rank']=df.groupby(['Language'])['Actual price'].rank(ascending=False)\n",
    "df"
   ],
   "execution_count":234,
   "outputs":[
    {
     "data":{
      "text\/html":[
       "<div>\n",
       "<style scoped>\n",
       "    .dataframe tbody tr th:only-of-type {\n",
       "        vertical-align: middle;\n",
       "    }\n",
       "\n",
       "    .dataframe tbody tr th {\n",
       "        vertical-align: top;\n",
       "    }\n",
       "\n",
       "    .dataframe thead th {\n",
       "        text-align: right;\n",
       "    }\n",
       "<\/style>\n",
       "<table border=\"1\" class=\"dataframe\">\n",
       "  <thead>\n",
       "    <tr style=\"text-align: right;\">\n",
       "      <th><\/th>\n",
       "      <th>Address<\/th>\n",
       "      <th>Lot<\/th>\n",
       "      <th>AM or PM<\/th>\n",
       "      <th>Browser Info<\/th>\n",
       "      <th>Company<\/th>\n",
       "      <th>Credit Card<\/th>\n",
       "      <th>CC Exp Date<\/th>\n",
       "      <th>CC Security Code<\/th>\n",
       "      <th>CC Provider<\/th>\n",
       "      <th>Email<\/th>\n",
       "      <th>Job<\/th>\n",
       "      <th>IP Address<\/th>\n",
       "      <th>Language<\/th>\n",
       "      <th>Purchase Price<\/th>\n",
       "      <th>new email<\/th>\n",
       "      <th>new browser<\/th>\n",
       "      <th>Actual price<\/th>\n",
       "      <th>language rank<\/th>\n",
       "    <\/tr>\n",
       "  <\/thead>\n",
       "  <tbody>\n",
       "    <tr>\n",
       "      <th>0<\/th>\n",
       "      <td>16629 Pace Camp Apt. 448\\nAlexisborough, NE 77...<\/td>\n",
       "      <td>46 in<\/td>\n",
       "      <td>PM<\/td>\n",
       "      <td>Opera\/9.56.(X11; Linux x86_64; sl-SI) Presto\/2...<\/td>\n",
       "      <td>Martinez-Herman<\/td>\n",
       "      <td>6011929061123406<\/td>\n",
       "      <td>02\/20<\/td>\n",
       "      <td>900<\/td>\n",
       "      <td>JCB 16 digit<\/td>\n",
       "      <td>pdunlap@yahoo.com<\/td>\n",
       "      <td>Scientist, product\/process development<\/td>\n",
       "      <td>149.146.147.205<\/td>\n",
       "      <td>el<\/td>\n",
       "      <td>98.14<\/td>\n",
       "      <td>yahoo.com<\/td>\n",
       "      <td>Opera<\/td>\n",
       "      <td>117.768<\/td>\n",
       "      <td>27.5<\/td>\n",
       "    <\/tr>\n",
       "    <tr>\n",
       "      <th>1<\/th>\n",
       "      <td>9374 Jasmine Spurs Suite 508\\nSouth John, TN 8...<\/td>\n",
       "      <td>28 rn<\/td>\n",
       "      <td>PM<\/td>\n",
       "      <td>Opera\/8.93.(Windows 98; Win 9x 4.90; en-US) Pr...<\/td>\n",
       "      <td>Fletcher, Richards and Whitaker<\/td>\n",
       "      <td>3337758169645356<\/td>\n",
       "      <td>11\/18<\/td>\n",
       "      <td>561<\/td>\n",
       "      <td>Mastercard<\/td>\n",
       "      <td>anthony41@reed.com<\/td>\n",
       "      <td>Drilling engineer<\/td>\n",
       "      <td>15.160.41.51<\/td>\n",
       "      <td>fr<\/td>\n",
       "      <td>70.73<\/td>\n",
       "      <td>reed.com<\/td>\n",
       "      <td>Opera<\/td>\n",
       "      <td>84.876<\/td>\n",
       "      <td>327.0<\/td>\n",
       "    <\/tr>\n",
       "    <tr>\n",
       "      <th>2<\/th>\n",
       "      <td>Unit 0065 Box 5052\\nDPO AP 27450<\/td>\n",
       "      <td>94 vE<\/td>\n",
       "      <td>PM<\/td>\n",
       "      <td>Mozilla\/5.0 (compatible; MSIE 9.0; Windows NT ...<\/td>\n",
       "      <td>Simpson, Williams and Pham<\/td>\n",
       "      <td>675957666125<\/td>\n",
       "      <td>08\/19<\/td>\n",
       "      <td>699<\/td>\n",
       "      <td>JCB 16 digit<\/td>\n",
       "      <td>amymiller@morales-harrison.com<\/td>\n",
       "      <td>Customer service manager<\/td>\n",
       "      <td>132.207.160.22<\/td>\n",
       "      <td>de<\/td>\n",
       "      <td>0.95<\/td>\n",
       "      <td>morales-harrison.com<\/td>\n",
       "      <td>Mozilla<\/td>\n",
       "      <td>1.235<\/td>\n",
       "      <td>1143.0<\/td>\n",
       "    <\/tr>\n",
       "    <tr>\n",
       "      <th>3<\/th>\n",
       "      <td>7780 Julia Fords\\nNew Stacy, WA 45798<\/td>\n",
       "      <td>36 vm<\/td>\n",
       "      <td>PM<\/td>\n",
       "      <td>Mozilla\/5.0 (Macintosh; Intel Mac OS X 10_8_0 ...<\/td>\n",
       "      <td>Williams, Marshall and Buchanan<\/td>\n",
       "      <td>6011578504430710<\/td>\n",
       "      <td>02\/24<\/td>\n",
       "      <td>384<\/td>\n",
       "      <td>Discover<\/td>\n",
       "      <td>brent16@olson-robinson.info<\/td>\n",
       "      <td>Drilling engineer<\/td>\n",
       "      <td>30.250.74.19<\/td>\n",
       "      <td>es<\/td>\n",
       "      <td>78.04<\/td>\n",
       "      <td>olson-robinson.info<\/td>\n",
       "      <td>Mozilla<\/td>\n",
       "      <td>93.648<\/td>\n",
       "      <td>239.5<\/td>\n",
       "    <\/tr>\n",
       "    <tr>\n",
       "      <th>4<\/th>\n",
       "      <td>23012 Munoz Drive Suite 337\\nNew Cynthia, TX 5...<\/td>\n",
       "      <td>20 IE<\/td>\n",
       "      <td>AM<\/td>\n",
       "      <td>Opera\/9.58.(X11; Linux x86_64; it-IT) Presto\/2...<\/td>\n",
       "      <td>Brown, Watson and Andrews<\/td>\n",
       "      <td>6011456623207998<\/td>\n",
       "      <td>10\/25<\/td>\n",
       "      <td>678<\/td>\n",
       "      <td>Diners Club \/ Carte Blanche<\/td>\n",
       "      <td>christopherwright@gmail.com<\/td>\n",
       "      <td>Fine artist<\/td>\n",
       "      <td>24.140.33.94<\/td>\n",
       "      <td>es<\/td>\n",
       "      <td>77.82<\/td>\n",
       "      <td>gmail.com<\/td>\n",
       "      <td>Opera<\/td>\n",
       "      <td>93.384<\/td>\n",
       "      <td>244.5<\/td>\n",
       "    <\/tr>\n",
       "    <tr>\n",
       "      <th>...<\/th>\n",
       "      <td>...<\/td>\n",
       "      <td>...<\/td>\n",
       "      <td>...<\/td>\n",
       "      <td>...<\/td>\n",
       "      <td>...<\/td>\n",
       "      <td>...<\/td>\n",
       "      <td>...<\/td>\n",
       "      <td>...<\/td>\n",
       "      <td>...<\/td>\n",
       "      <td>...<\/td>\n",
       "      <td>...<\/td>\n",
       "      <td>...<\/td>\n",
       "      <td>...<\/td>\n",
       "      <td>...<\/td>\n",
       "      <td>...<\/td>\n",
       "      <td>...<\/td>\n",
       "      <td>...<\/td>\n",
       "      <td>...<\/td>\n",
       "    <\/tr>\n",
       "    <tr>\n",
       "      <th>9995<\/th>\n",
       "      <td>966 Castaneda Locks\\nWest Juliafurt, CO 96415<\/td>\n",
       "      <td>92 XI<\/td>\n",
       "      <td>PM<\/td>\n",
       "      <td>Mozilla\/5.0 (Windows NT 5.1) AppleWebKit\/5352 ...<\/td>\n",
       "      <td>Randall-Sloan<\/td>\n",
       "      <td>342945015358701<\/td>\n",
       "      <td>03\/22<\/td>\n",
       "      <td>838<\/td>\n",
       "      <td>JCB 15 digit<\/td>\n",
       "      <td>iscott@wade-garner.com<\/td>\n",
       "      <td>Printmaker<\/td>\n",
       "      <td>29.73.197.114<\/td>\n",
       "      <td>it<\/td>\n",
       "      <td>82.21<\/td>\n",
       "      <td>wade-garner.com<\/td>\n",
       "      <td>Mozilla<\/td>\n",
       "      <td>98.652<\/td>\n",
       "      <td>202.0<\/td>\n",
       "    <\/tr>\n",
       "    <tr>\n",
       "      <th>9996<\/th>\n",
       "      <td>832 Curtis Dam Suite 785\\nNorth Edwardburgh, T...<\/td>\n",
       "      <td>41 JY<\/td>\n",
       "      <td>AM<\/td>\n",
       "      <td>Mozilla\/5.0 (compatible; MSIE 9.0; Windows NT ...<\/td>\n",
       "      <td>Hale, Collins and Wilson<\/td>\n",
       "      <td>210033169205009<\/td>\n",
       "      <td>07\/25<\/td>\n",
       "      <td>207<\/td>\n",
       "      <td>JCB 16 digit<\/td>\n",
       "      <td>mary85@hotmail.com<\/td>\n",
       "      <td>Energy engineer<\/td>\n",
       "      <td>121.133.168.51<\/td>\n",
       "      <td>pt<\/td>\n",
       "      <td>25.63<\/td>\n",
       "      <td>hotmail.com<\/td>\n",
       "      <td>Mozilla<\/td>\n",
       "      <td>33.319<\/td>\n",
       "      <td>858.0<\/td>\n",
       "    <\/tr>\n",
       "    <tr>\n",
       "      <th>9997<\/th>\n",
       "      <td>Unit 4434 Box 6343\\nDPO AE 28026-0283<\/td>\n",
       "      <td>74 Zh<\/td>\n",
       "      <td>AM<\/td>\n",
       "      <td>Mozilla\/5.0 (Macintosh; U; Intel Mac OS X 10_7...<\/td>\n",
       "      <td>Anderson Ltd<\/td>\n",
       "      <td>6011539787356311<\/td>\n",
       "      <td>05\/21<\/td>\n",
       "      <td>1<\/td>\n",
       "      <td>VISA 16 digit<\/td>\n",
       "      <td>tyler16@gmail.com<\/td>\n",
       "      <td>Veterinary surgeon<\/td>\n",
       "      <td>156.210.0.254<\/td>\n",
       "      <td>el<\/td>\n",
       "      <td>83.98<\/td>\n",
       "      <td>gmail.com<\/td>\n",
       "      <td>Mozilla<\/td>\n",
       "      <td>100.776<\/td>\n",
       "      <td>193.0<\/td>\n",
       "    <\/tr>\n",
       "    <tr>\n",
       "      <th>9998<\/th>\n",
       "      <td>0096 English Rest\\nRoystad, IA 12457<\/td>\n",
       "      <td>74 cL<\/td>\n",
       "      <td>PM<\/td>\n",
       "      <td>Mozilla\/5.0 (Macintosh; Intel Mac OS X 10_8_8;...<\/td>\n",
       "      <td>Cook Inc<\/td>\n",
       "      <td>180003348082930<\/td>\n",
       "      <td>11\/17<\/td>\n",
       "      <td>987<\/td>\n",
       "      <td>American Express<\/td>\n",
       "      <td>elizabethmoore@reid.net<\/td>\n",
       "      <td>Local government officer<\/td>\n",
       "      <td>55.78.26.143<\/td>\n",
       "      <td>es<\/td>\n",
       "      <td>38.84<\/td>\n",
       "      <td>reid.net<\/td>\n",
       "      <td>Mozilla<\/td>\n",
       "      <td>50.492<\/td>\n",
       "      <td>640.0<\/td>\n",
       "    <\/tr>\n",
       "    <tr>\n",
       "      <th>9999<\/th>\n",
       "      <td>40674 Barrett Stravenue\\nGrimesville, WI 79682<\/td>\n",
       "      <td>64 Hr<\/td>\n",
       "      <td>AM<\/td>\n",
       "      <td>Mozilla\/5.0 (X11; Linux i686; rv:1.9.5.20) Gec...<\/td>\n",
       "      <td>Greene Inc<\/td>\n",
       "      <td>4139972901927273<\/td>\n",
       "      <td>02\/19<\/td>\n",
       "      <td>302<\/td>\n",
       "      <td>JCB 15 digit<\/td>\n",
       "      <td>rachelford@vaughn.com<\/td>\n",
       "      <td>Embryologist, clinical<\/td>\n",
       "      <td>176.119.198.199<\/td>\n",
       "      <td>el<\/td>\n",
       "      <td>67.59<\/td>\n",
       "      <td>vaughn.com<\/td>\n",
       "      <td>Mozilla<\/td>\n",
       "      <td>81.108<\/td>\n",
       "      <td>385.0<\/td>\n",
       "    <\/tr>\n",
       "  <\/tbody>\n",
       "<\/table>\n",
       "<p>10000 rows × 18 columns<\/p>\n",
       "<\/div>"
      ]
     },
     "metadata":{
      
     },
     "output_type":"display_data"
    }
   ],
   "metadata":{
    "datalore":{
     "type":"CODE",
     "hide_input_from_viewers":false,
     "hide_output_from_viewers":false
    }
   }
  },
  {
   "cell_type":"markdown",
   "source":[
    "Колонку \"Language\" (категоріальна змінна) \"закодуйте\", тобто утворити індикаторні колоник. В наборі не повинна залишитися колонка \"Language\".\n",
    "\n",
    "https:\/\/pandas.pydata.org\/pandas-docs\/stable\/reference\/api\/pandas.DataFrame.rank.html"
   ],
   "attachments":{
    
   },
   "metadata":{
    "datalore":{
     "type":"MD",
     "hide_input_from_viewers":false,
     "hide_output_from_viewers":false
    }
   }
  },
  {
   "cell_type":"code",
   "source":[
    "df['Language']=df['Language'].astype('category') \n",
    "df['Code_l']= df['Language'].cat.codes\n",
    "df"
   ],
   "execution_count":238,
   "outputs":[
    {
     "data":{
      "text\/html":[
       "<div>\n",
       "<style scoped>\n",
       "    .dataframe tbody tr th:only-of-type {\n",
       "        vertical-align: middle;\n",
       "    }\n",
       "\n",
       "    .dataframe tbody tr th {\n",
       "        vertical-align: top;\n",
       "    }\n",
       "\n",
       "    .dataframe thead th {\n",
       "        text-align: right;\n",
       "    }\n",
       "<\/style>\n",
       "<table border=\"1\" class=\"dataframe\">\n",
       "  <thead>\n",
       "    <tr style=\"text-align: right;\">\n",
       "      <th><\/th>\n",
       "      <th>Address<\/th>\n",
       "      <th>Lot<\/th>\n",
       "      <th>AM or PM<\/th>\n",
       "      <th>Browser Info<\/th>\n",
       "      <th>Company<\/th>\n",
       "      <th>Credit Card<\/th>\n",
       "      <th>CC Exp Date<\/th>\n",
       "      <th>CC Security Code<\/th>\n",
       "      <th>CC Provider<\/th>\n",
       "      <th>Email<\/th>\n",
       "      <th>Job<\/th>\n",
       "      <th>IP Address<\/th>\n",
       "      <th>Language<\/th>\n",
       "      <th>Purchase Price<\/th>\n",
       "      <th>new email<\/th>\n",
       "      <th>new browser<\/th>\n",
       "      <th>Actual price<\/th>\n",
       "      <th>language rank<\/th>\n",
       "      <th>Code_l<\/th>\n",
       "    <\/tr>\n",
       "  <\/thead>\n",
       "  <tbody>\n",
       "    <tr>\n",
       "      <th>0<\/th>\n",
       "      <td>16629 Pace Camp Apt. 448\\nAlexisborough, NE 77...<\/td>\n",
       "      <td>46 in<\/td>\n",
       "      <td>PM<\/td>\n",
       "      <td>Opera\/9.56.(X11; Linux x86_64; sl-SI) Presto\/2...<\/td>\n",
       "      <td>Martinez-Herman<\/td>\n",
       "      <td>6011929061123406<\/td>\n",
       "      <td>02\/20<\/td>\n",
       "      <td>900<\/td>\n",
       "      <td>JCB 16 digit<\/td>\n",
       "      <td>pdunlap@yahoo.com<\/td>\n",
       "      <td>Scientist, product\/process development<\/td>\n",
       "      <td>149.146.147.205<\/td>\n",
       "      <td>el<\/td>\n",
       "      <td>98.14<\/td>\n",
       "      <td>yahoo.com<\/td>\n",
       "      <td>Opera<\/td>\n",
       "      <td>117.768<\/td>\n",
       "      <td>27.5<\/td>\n",
       "      <td>1<\/td>\n",
       "    <\/tr>\n",
       "    <tr>\n",
       "      <th>1<\/th>\n",
       "      <td>9374 Jasmine Spurs Suite 508\\nSouth John, TN 8...<\/td>\n",
       "      <td>28 rn<\/td>\n",
       "      <td>PM<\/td>\n",
       "      <td>Opera\/8.93.(Windows 98; Win 9x 4.90; en-US) Pr...<\/td>\n",
       "      <td>Fletcher, Richards and Whitaker<\/td>\n",
       "      <td>3337758169645356<\/td>\n",
       "      <td>11\/18<\/td>\n",
       "      <td>561<\/td>\n",
       "      <td>Mastercard<\/td>\n",
       "      <td>anthony41@reed.com<\/td>\n",
       "      <td>Drilling engineer<\/td>\n",
       "      <td>15.160.41.51<\/td>\n",
       "      <td>fr<\/td>\n",
       "      <td>70.73<\/td>\n",
       "      <td>reed.com<\/td>\n",
       "      <td>Opera<\/td>\n",
       "      <td>84.876<\/td>\n",
       "      <td>327.0<\/td>\n",
       "      <td>4<\/td>\n",
       "    <\/tr>\n",
       "    <tr>\n",
       "      <th>2<\/th>\n",
       "      <td>Unit 0065 Box 5052\\nDPO AP 27450<\/td>\n",
       "      <td>94 vE<\/td>\n",
       "      <td>PM<\/td>\n",
       "      <td>Mozilla\/5.0 (compatible; MSIE 9.0; Windows NT ...<\/td>\n",
       "      <td>Simpson, Williams and Pham<\/td>\n",
       "      <td>675957666125<\/td>\n",
       "      <td>08\/19<\/td>\n",
       "      <td>699<\/td>\n",
       "      <td>JCB 16 digit<\/td>\n",
       "      <td>amymiller@morales-harrison.com<\/td>\n",
       "      <td>Customer service manager<\/td>\n",
       "      <td>132.207.160.22<\/td>\n",
       "      <td>de<\/td>\n",
       "      <td>0.95<\/td>\n",
       "      <td>morales-harrison.com<\/td>\n",
       "      <td>Mozilla<\/td>\n",
       "      <td>1.235<\/td>\n",
       "      <td>1143.0<\/td>\n",
       "      <td>0<\/td>\n",
       "    <\/tr>\n",
       "    <tr>\n",
       "      <th>3<\/th>\n",
       "      <td>7780 Julia Fords\\nNew Stacy, WA 45798<\/td>\n",
       "      <td>36 vm<\/td>\n",
       "      <td>PM<\/td>\n",
       "      <td>Mozilla\/5.0 (Macintosh; Intel Mac OS X 10_8_0 ...<\/td>\n",
       "      <td>Williams, Marshall and Buchanan<\/td>\n",
       "      <td>6011578504430710<\/td>\n",
       "      <td>02\/24<\/td>\n",
       "      <td>384<\/td>\n",
       "      <td>Discover<\/td>\n",
       "      <td>brent16@olson-robinson.info<\/td>\n",
       "      <td>Drilling engineer<\/td>\n",
       "      <td>30.250.74.19<\/td>\n",
       "      <td>es<\/td>\n",
       "      <td>78.04<\/td>\n",
       "      <td>olson-robinson.info<\/td>\n",
       "      <td>Mozilla<\/td>\n",
       "      <td>93.648<\/td>\n",
       "      <td>239.5<\/td>\n",
       "      <td>3<\/td>\n",
       "    <\/tr>\n",
       "    <tr>\n",
       "      <th>4<\/th>\n",
       "      <td>23012 Munoz Drive Suite 337\\nNew Cynthia, TX 5...<\/td>\n",
       "      <td>20 IE<\/td>\n",
       "      <td>AM<\/td>\n",
       "      <td>Opera\/9.58.(X11; Linux x86_64; it-IT) Presto\/2...<\/td>\n",
       "      <td>Brown, Watson and Andrews<\/td>\n",
       "      <td>6011456623207998<\/td>\n",
       "      <td>10\/25<\/td>\n",
       "      <td>678<\/td>\n",
       "      <td>Diners Club \/ Carte Blanche<\/td>\n",
       "      <td>christopherwright@gmail.com<\/td>\n",
       "      <td>Fine artist<\/td>\n",
       "      <td>24.140.33.94<\/td>\n",
       "      <td>es<\/td>\n",
       "      <td>77.82<\/td>\n",
       "      <td>gmail.com<\/td>\n",
       "      <td>Opera<\/td>\n",
       "      <td>93.384<\/td>\n",
       "      <td>244.5<\/td>\n",
       "      <td>3<\/td>\n",
       "    <\/tr>\n",
       "    <tr>\n",
       "      <th>...<\/th>\n",
       "      <td>...<\/td>\n",
       "      <td>...<\/td>\n",
       "      <td>...<\/td>\n",
       "      <td>...<\/td>\n",
       "      <td>...<\/td>\n",
       "      <td>...<\/td>\n",
       "      <td>...<\/td>\n",
       "      <td>...<\/td>\n",
       "      <td>...<\/td>\n",
       "      <td>...<\/td>\n",
       "      <td>...<\/td>\n",
       "      <td>...<\/td>\n",
       "      <td>...<\/td>\n",
       "      <td>...<\/td>\n",
       "      <td>...<\/td>\n",
       "      <td>...<\/td>\n",
       "      <td>...<\/td>\n",
       "      <td>...<\/td>\n",
       "      <td>...<\/td>\n",
       "    <\/tr>\n",
       "    <tr>\n",
       "      <th>9995<\/th>\n",
       "      <td>966 Castaneda Locks\\nWest Juliafurt, CO 96415<\/td>\n",
       "      <td>92 XI<\/td>\n",
       "      <td>PM<\/td>\n",
       "      <td>Mozilla\/5.0 (Windows NT 5.1) AppleWebKit\/5352 ...<\/td>\n",
       "      <td>Randall-Sloan<\/td>\n",
       "      <td>342945015358701<\/td>\n",
       "      <td>03\/22<\/td>\n",
       "      <td>838<\/td>\n",
       "      <td>JCB 15 digit<\/td>\n",
       "      <td>iscott@wade-garner.com<\/td>\n",
       "      <td>Printmaker<\/td>\n",
       "      <td>29.73.197.114<\/td>\n",
       "      <td>it<\/td>\n",
       "      <td>82.21<\/td>\n",
       "      <td>wade-garner.com<\/td>\n",
       "      <td>Mozilla<\/td>\n",
       "      <td>98.652<\/td>\n",
       "      <td>202.0<\/td>\n",
       "      <td>5<\/td>\n",
       "    <\/tr>\n",
       "    <tr>\n",
       "      <th>9996<\/th>\n",
       "      <td>832 Curtis Dam Suite 785\\nNorth Edwardburgh, T...<\/td>\n",
       "      <td>41 JY<\/td>\n",
       "      <td>AM<\/td>\n",
       "      <td>Mozilla\/5.0 (compatible; MSIE 9.0; Windows NT ...<\/td>\n",
       "      <td>Hale, Collins and Wilson<\/td>\n",
       "      <td>210033169205009<\/td>\n",
       "      <td>07\/25<\/td>\n",
       "      <td>207<\/td>\n",
       "      <td>JCB 16 digit<\/td>\n",
       "      <td>mary85@hotmail.com<\/td>\n",
       "      <td>Energy engineer<\/td>\n",
       "      <td>121.133.168.51<\/td>\n",
       "      <td>pt<\/td>\n",
       "      <td>25.63<\/td>\n",
       "      <td>hotmail.com<\/td>\n",
       "      <td>Mozilla<\/td>\n",
       "      <td>33.319<\/td>\n",
       "      <td>858.0<\/td>\n",
       "      <td>6<\/td>\n",
       "    <\/tr>\n",
       "    <tr>\n",
       "      <th>9997<\/th>\n",
       "      <td>Unit 4434 Box 6343\\nDPO AE 28026-0283<\/td>\n",
       "      <td>74 Zh<\/td>\n",
       "      <td>AM<\/td>\n",
       "      <td>Mozilla\/5.0 (Macintosh; U; Intel Mac OS X 10_7...<\/td>\n",
       "      <td>Anderson Ltd<\/td>\n",
       "      <td>6011539787356311<\/td>\n",
       "      <td>05\/21<\/td>\n",
       "      <td>1<\/td>\n",
       "      <td>VISA 16 digit<\/td>\n",
       "      <td>tyler16@gmail.com<\/td>\n",
       "      <td>Veterinary surgeon<\/td>\n",
       "      <td>156.210.0.254<\/td>\n",
       "      <td>el<\/td>\n",
       "      <td>83.98<\/td>\n",
       "      <td>gmail.com<\/td>\n",
       "      <td>Mozilla<\/td>\n",
       "      <td>100.776<\/td>\n",
       "      <td>193.0<\/td>\n",
       "      <td>1<\/td>\n",
       "    <\/tr>\n",
       "    <tr>\n",
       "      <th>9998<\/th>\n",
       "      <td>0096 English Rest\\nRoystad, IA 12457<\/td>\n",
       "      <td>74 cL<\/td>\n",
       "      <td>PM<\/td>\n",
       "      <td>Mozilla\/5.0 (Macintosh; Intel Mac OS X 10_8_8;...<\/td>\n",
       "      <td>Cook Inc<\/td>\n",
       "      <td>180003348082930<\/td>\n",
       "      <td>11\/17<\/td>\n",
       "      <td>987<\/td>\n",
       "      <td>American Express<\/td>\n",
       "      <td>elizabethmoore@reid.net<\/td>\n",
       "      <td>Local government officer<\/td>\n",
       "      <td>55.78.26.143<\/td>\n",
       "      <td>es<\/td>\n",
       "      <td>38.84<\/td>\n",
       "      <td>reid.net<\/td>\n",
       "      <td>Mozilla<\/td>\n",
       "      <td>50.492<\/td>\n",
       "      <td>640.0<\/td>\n",
       "      <td>3<\/td>\n",
       "    <\/tr>\n",
       "    <tr>\n",
       "      <th>9999<\/th>\n",
       "      <td>40674 Barrett Stravenue\\nGrimesville, WI 79682<\/td>\n",
       "      <td>64 Hr<\/td>\n",
       "      <td>AM<\/td>\n",
       "      <td>Mozilla\/5.0 (X11; Linux i686; rv:1.9.5.20) Gec...<\/td>\n",
       "      <td>Greene Inc<\/td>\n",
       "      <td>4139972901927273<\/td>\n",
       "      <td>02\/19<\/td>\n",
       "      <td>302<\/td>\n",
       "      <td>JCB 15 digit<\/td>\n",
       "      <td>rachelford@vaughn.com<\/td>\n",
       "      <td>Embryologist, clinical<\/td>\n",
       "      <td>176.119.198.199<\/td>\n",
       "      <td>el<\/td>\n",
       "      <td>67.59<\/td>\n",
       "      <td>vaughn.com<\/td>\n",
       "      <td>Mozilla<\/td>\n",
       "      <td>81.108<\/td>\n",
       "      <td>385.0<\/td>\n",
       "      <td>1<\/td>\n",
       "    <\/tr>\n",
       "  <\/tbody>\n",
       "<\/table>\n",
       "<p>10000 rows × 19 columns<\/p>\n",
       "<\/div>"
      ]
     },
     "metadata":{
      
     },
     "output_type":"display_data"
    }
   ],
   "metadata":{
    "datalore":{
     "type":"CODE",
     "hide_input_from_viewers":false,
     "hide_output_from_viewers":false
    }
   }
  },
  {
   "cell_type":"markdown",
   "source":[
    "Кінцевий набір даних збережіть у файл з розширенням csv."
   ],
   "attachments":{
    
   },
   "metadata":{
    "datalore":{
     "type":"MD",
     "hide_input_from_viewers":false,
     "hide_output_from_viewers":false
    }
   }
  },
  {
   "cell_type":"code",
   "source":[
    "df.to_csv(\"lab5.2.csv\")"
   ],
   "execution_count":239,
   "outputs":[
    
   ],
   "metadata":{
    "datalore":{
     "type":"CODE",
     "hide_input_from_viewers":false,
     "hide_output_from_viewers":false
    }
   }
  }
 ],
 "metadata":{
  "datalore":{
   "version":1,
   "computation_mode":"JUPYTER",
   "package_manager":"pip",
   "base_environment":"default",
   "packages":[
    
   ]
  }
 },
 "nbformat":4,
 "nbformat_minor":4
}